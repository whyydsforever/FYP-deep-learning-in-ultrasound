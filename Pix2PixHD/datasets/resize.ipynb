{
 "cells": [
  {
   "cell_type": "code",
   "execution_count": 1,
   "metadata": {},
   "outputs": [],
   "source": [
    "from PIL import Image\n",
    "import os\n",
    "def ReSize(from_path,out_path):\n",
    "    dirs=os.listdir(from_path)\n",
    "    os.chdir(from_path)\n",
    "    for file in dirs:\n",
    "        image=Image.open(file)#不能用'1'模式直接打开？\n",
    "        image=image.resize((256,256))#括号内要一个参数 元组\n",
    "#####resize修改的是像素尺寸\n",
    "        image.save(os.path.join(out_path, \"\" + file))#可以不创建文件，但一定要创建文件夹\n",
    "    return     #return写到循环里面了 怪不得会只运行一次就退出\n",
    "\n",
    "ReSize('D:\\FYP\\pix2pixHD-master\\datasets\\\\2\\\\mask_2\\\\train','D:\\FYP\\pix2pixHD-master\\datasets\\\\2\\\\train_A')\n"
   ]
  }
 ],
 "metadata": {
  "interpreter": {
   "hash": "ff4bcc1c4142df500e8ff53e8e49d9f1f716bc869798d3ab49317bf2d6167653"
  },
  "kernelspec": {
   "display_name": "Python 3.8.12 ('pytorch')",
   "language": "python",
   "name": "python3"
  },
  "language_info": {
   "codemirror_mode": {
    "name": "ipython",
    "version": 3
   },
   "file_extension": ".py",
   "mimetype": "text/x-python",
   "name": "python",
   "nbconvert_exporter": "python",
   "pygments_lexer": "ipython3",
   "version": "3.8.12"
  },
  "orig_nbformat": 4
 },
 "nbformat": 4,
 "nbformat_minor": 2
}
