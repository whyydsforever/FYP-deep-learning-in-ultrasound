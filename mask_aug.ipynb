{
 "cells": [
  {
   "cell_type": "code",
   "execution_count": 1,
   "metadata": {},
   "outputs": [],
   "source": [
    "import os\n",
    "import cv2\n",
    "import matplotlib.pyplot as plt\n",
    "import numpy as np\n",
    "import albumentations as A\n",
    "from PIL import Image"
   ]
  },
  {
   "cell_type": "code",
   "execution_count": 6,
   "metadata": {},
   "outputs": [],
   "source": [
    "datapath=\"D:\\FYP\\data\\BUSI_mask\"\n",
    "idx=[os.path.join(datapath,i) for i in os.listdir(datapath)]\n",
    "\n",
    "for i in range(len(idx)):\n",
    "    msks=cv2.imread(r\"%s\"%(idx[i]),-1)\n",
    "    transform1 = A.Compose([\n",
    "                    A.Affine(p=1),\n",
    "                    A.HorizontalFlip(p=1)\n",
    "    ])\n",
    "    augmented_image1 = transform1(image=msks)['image']\n",
    "    ret1, thresh1 = cv2.threshold(augmented_image1,12, 255,cv2.THRESH_BINARY)\n",
    "    cv2.imwrite(r'D:\\FYP\\data\\maskout\\c%s.png'%i,thresh1)"
   ]
  },
  {
   "cell_type": "code",
   "execution_count": 4,
   "metadata": {},
   "outputs": [],
   "source": [
    "\n",
    "datapath=\"D:\\FYP\\data\\BUSI_mask\"\n",
    "idx=[os.path.join(datapath,i) for i in os.listdir(datapath)]\n",
    "\n",
    "for i in range(len(idx)):\n",
    "    msks=cv2.imread(r\"%s\"%(idx[i]),-1)\n",
    "    transform1 = A.RandomRotate90(p=1)\n",
    "    augmented_image1 = transform1(image=msks)['image']\n",
    "    ret1, thresh1 = cv2.threshold(augmented_image1,12, 255,cv2.THRESH_BINARY)\n",
    "    cv2.imwrite(r'D:\\FYP\\data\\maskout\\d%s.png'%i,thresh1)\n",
    " \n",
    "\n",
    "\n"
   ]
  },
  {
   "cell_type": "code",
   "execution_count": null,
   "metadata": {},
   "outputs": [],
   "source": [
    "datapath=\"D:\\FYP\\data\\BUSI_mask\"\n",
    "idx=[os.path.join(datapath,i) for i in os.listdir(datapath)]\n",
    "\n",
    "for i in range(len(idx)):\n",
    "    msks=cv2.imread(r\"%s\"%(idx[i]),-1)\n",
    "    transform1 = A.VerticalFlip(p=1)\n",
    "    augmented_image1 = transform1(image=msks)['image']\n",
    "    ret1, thresh1 = cv2.threshold(augmented_image1,12, 255,cv2.THRESH_BINARY)\n",
    "    cv2.imwrite(r'D:\\FYP\\data\\maskout\\a%s.png'%i,thresh1)"
   ]
  },
  {
   "cell_type": "code",
   "execution_count": null,
   "metadata": {},
   "outputs": [],
   "source": [
    "datapath=\"D:\\FYP\\data\\BUSI_mask\"\n",
    "idx=[os.path.join(datapath,i) for i in os.listdir(datapath)]\n",
    "\n",
    "for i in range(len(idx)):\n",
    "    msks=cv2.imread(r\"%s\"%(idx[i]),-1)\n",
    "    transform1 = A.Affine(p=1)\n",
    "    augmented_image1 = transform1(image=msks)['image']\n",
    "    ret1, thresh1 = cv2.threshold(augmented_image1,12, 255,cv2.THRESH_BINARY)\n",
    "    cv2.imwrite(r'D:\\FYP\\data\\maskout\\b%s.png'%i,thresh1)"
   ]
  },
  {
   "cell_type": "code",
   "execution_count": null,
   "metadata": {},
   "outputs": [],
   "source": [
    "datapath=\"D:\\FYP\\data\\BUSI_mask\"\n",
    "idx=[os.path.join(datapath,i) for i in os.listdir(datapath)]\n",
    "\n",
    "for i in range(len(idx)):\n",
    "    msks=cv2.imread(r\"%s\"%(idx[i]),-1)\n",
    "    transform1 = A.VerticalFlip(p=1)\n",
    "    augmented_image1 = transform1(image=msks)['image']\n",
    "    ret1, thresh1 = cv2.threshold(augmented_image1,12, 255,cv2.THRESH_BINARY)\n",
    "    cv2.imwrite(r'D:\\FYP\\data\\maskout\\c%s.png'%i,thresh1)"
   ]
  },
  {
   "cell_type": "code",
   "execution_count": 7,
   "metadata": {},
   "outputs": [
    {
     "data": {
      "image/png": "[encoded data removed]",
      "text/plain": [
       "<Figure size 1000x1000 with 1 Axes>"
      ]
     },
     "metadata": {},
     "output_type": "display_data"
    },
    {
     "data": {
      "image/png": "[encoded data removed]",
      "text/plain": [
       "<Figure size 1000x1000 with 1 Axes>"
      ]
     },
     "metadata": {},
     "output_type": "display_data"
    }
   ],
   "source": [
    "def visualize(image):\n",
    "    plt.figure(figsize=(10, 10))\n",
    "    plt.axis('off')\n",
    "    plt.imshow(image)\n",
    "    \n",
    "image = cv2.imread(r'D:\\FYP\\data\\BUSI_mask1\\benign (1)_mask.png',-1)\n",
    "ret, thresh = cv2.threshold(image,12, 255,cv2.THRESH_BINARY)\n",
    "cv2.imwrite(r'D:\\FYP\\data\\BUSI_mask1\\mask1.png', thresh)\n",
    "visualize(image)\n",
    "transform = A.VerticalFlip(p=1)\n",
    "augmented_image = transform(image=image)['image']\n",
    "visualize(augmented_image)\n",
    "i=4\n",
    "ret, thresh = cv2.threshold(augmented_image,12, 255,cv2.THRESH_BINARY)\n",
    "cv2.imwrite(r'D:\\FYP\\data\\BUSI_mask1\\benign (1)%s_mask.png'%i,thresh)\n",
    "plt.show()"
   ]
  },
  {
   "cell_type": "code",
   "execution_count": 8,
   "metadata": {},
   "outputs": [
    {
     "name": "stdout",
     "output_type": "stream",
     "text": [
      "3\n"
     ]
    }
   ],
   "source": [
    "im=Image.open('D:\\FYP\\data\\Dataset_BUSI_with_GT\\\\benign\\\\benign (1).png')\n",
    "print(len(im.split()))"
   ]
  },
  {
   "cell_type": "code",
   "execution_count": 9,
   "metadata": {},
   "outputs": [
    {
     "ename": "FileNotFoundError",
     "evalue": "[WinError 3] 系统找不到指定的路径。: ''",
     "output_type": "error",
     "traceback": [
      "\u001b[1;31m---------------------------------------------------------------------------\u001b[0m",
      "\u001b[1;31mFileNotFoundError\u001b[0m                         Traceback (most recent call last)",
      "\u001b[1;32m<ipython-input-9-62630b497bb0>\u001b[0m in \u001b[0;36m<module>\u001b[1;34m\u001b[0m\n\u001b[0;32m      1\u001b[0m \u001b[0mtrainpath\u001b[0m\u001b[1;33m=\u001b[0m\u001b[1;34m\"\"\u001b[0m\u001b[1;33m\u001b[0m\u001b[1;33m\u001b[0m\u001b[0m\n\u001b[1;32m----> 2\u001b[1;33m \u001b[0mmasks\u001b[0m \u001b[1;33m=\u001b[0m \u001b[1;33m[\u001b[0m\u001b[0mos\u001b[0m\u001b[1;33m.\u001b[0m\u001b[0mpath\u001b[0m\u001b[1;33m.\u001b[0m\u001b[0mjoin\u001b[0m\u001b[1;33m(\u001b[0m\u001b[0mtrainpath\u001b[0m\u001b[1;33m,\u001b[0m\u001b[0mi\u001b[0m\u001b[1;33m)\u001b[0m \u001b[1;32mfor\u001b[0m \u001b[0mi\u001b[0m \u001b[1;32min\u001b[0m \u001b[0mos\u001b[0m\u001b[1;33m.\u001b[0m\u001b[0mlistdir\u001b[0m\u001b[1;33m(\u001b[0m\u001b[0mtrainpath\u001b[0m\u001b[1;33m)\u001b[0m \u001b[1;32mif\u001b[0m \u001b[1;34m\"fake\"\u001b[0m \u001b[1;32min\u001b[0m \u001b[0mi\u001b[0m\u001b[1;33m]\u001b[0m\u001b[1;33m\u001b[0m\u001b[1;33m\u001b[0m\u001b[0m\n\u001b[0m\u001b[0;32m      3\u001b[0m \u001b[1;32mfor\u001b[0m \u001b[0mi\u001b[0m \u001b[1;32min\u001b[0m \u001b[0mrange\u001b[0m\u001b[1;33m(\u001b[0m\u001b[0mlen\u001b[0m\u001b[1;33m(\u001b[0m\u001b[0midx\u001b[0m\u001b[1;33m)\u001b[0m\u001b[1;33m)\u001b[0m\u001b[1;33m:\u001b[0m\u001b[1;33m\u001b[0m\u001b[1;33m\u001b[0m\u001b[0m\n\u001b[0;32m      4\u001b[0m     \u001b[0mmsks\u001b[0m\u001b[1;33m=\u001b[0m\u001b[0mcv2\u001b[0m\u001b[1;33m.\u001b[0m\u001b[0mimread\u001b[0m\u001b[1;33m(\u001b[0m\u001b[1;34mr\"%s\"\u001b[0m\u001b[1;33m%\u001b[0m\u001b[1;33m(\u001b[0m\u001b[0midx\u001b[0m\u001b[1;33m[\u001b[0m\u001b[0mi\u001b[0m\u001b[1;33m]\u001b[0m\u001b[1;33m)\u001b[0m\u001b[1;33m,\u001b[0m\u001b[1;33m-\u001b[0m\u001b[1;36m1\u001b[0m\u001b[1;33m)\u001b[0m\u001b[1;33m\u001b[0m\u001b[1;33m\u001b[0m\u001b[0m\n",
      "\u001b[1;31mFileNotFoundError\u001b[0m: [WinError 3] 系统找不到指定的路径。: ''"
     ]
    }
   ],
   "source": [
    "trainpath=\"\"\n",
    "masks = [os.path.join(trainpath,i) for i in os.listdir(trainpath) if \"fake\" in i]\n",
    "for i in range(len(idx)):\n",
    "    msks=cv2.imread(r\"%s\"%(idx[i]),-1)"
   ]
  },
  {
   "cell_type": "code",
   "execution_count": null,
   "metadata": {},
   "outputs": [],
   "source": [
    "from PIL import Image #或直接import Image\n",
    "path=\"D:\\FYP\\data\\BUSI_f\"\n",
    "idx=[os.path.join(path,i) for i in os.listdir(path) if \"real\" in i]\n",
    "for i in range(len(idx)):\n",
    "    im = Image.open(r'%s'%(idx[i]))\n",
    "    im1 = im.convert('L') .save(r'D:\\\\FYP\\\\data\\\\temp\\\\a%s_real.png'%i)\n",
    "\n",
    " "
   ]
  }
 ],
 "metadata": {
  "interpreter": {
   "hash": "ff4bcc1c4142df500e8ff53e8e49d9f1f716bc869798d3ab49317bf2d6167653"
  },
  "kernelspec": {
   "display_name": "Python 3.8.12 ('pytorch')",
   "language": "python",
   "name": "python3"
  },
  "language_info": {
   "codemirror_mode": {
    "name": "ipython",
    "version": 3
   },
   "file_extension": ".py",
   "mimetype": "text/x-python",
   "name": "python",
   "nbconvert_exporter": "python",
   "pygments_lexer": "ipython3",
   "version": "3.8.12"
  },
  "orig_nbformat": 4
 },
 "nbformat": 4,
 "nbformat_minor": 2
}
